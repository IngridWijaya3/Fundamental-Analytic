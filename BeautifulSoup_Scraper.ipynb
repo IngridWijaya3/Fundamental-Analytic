{
 "cells": [
  {
   "cell_type": "code",
   "execution_count": null,
   "metadata": {
    "collapsed": true
   },
   "outputs": [],
   "source": [
    "####################################################\n",
    "# Scraping Data From Twitter HTML Files\n",
    "#\n",
    "# 1. Place HTML files in 'HTML' directory in CWD.\n",
    "# 2. \n",
    "#\n",
    "####################################################"
   ]
  },
  {
   "cell_type": "code",
   "execution_count": null,
   "metadata": {
    "collapsed": true
   },
   "outputs": [],
   "source": [
    "import os\n",
    "import re\n",
    "from bs4 import BeautifulSoup\n",
    "from datetime import datetime, timedelta\n",
    "import pandas as pd\n",
    "import pymongo"
   ]
  },
  {
   "cell_type": "code",
   "execution_count": null,
   "metadata": {
    "collapsed": false
   },
   "outputs": [],
   "source": [
    "mongo_connect_string = 'mongodb://TwitterIPO?authSource=TwitterIPO'\n",
    "\n",
    "client = pymongo.MongoClient(mongo_connect_string)\n",
    "db = client.TwitterIPO\n",
    "RawTweets = db.RawTweets\n",
    "PriceData = db.PriceData\n",
    "ProcessedTweets = db.ProcessedTweets"
   ]
  },
  {
   "cell_type": "code",
   "execution_count": null,
   "metadata": {
    "collapsed": false
   },
   "outputs": [],
   "source": [
    "# Get file list from 'HTML' directory\n",
    "directory = 'HTML'\n",
    "filelist = os.listdir(directory)\n",
    "len(filelist)"
   ]
  },
  {
   "cell_type": "code",
   "execution_count": null,
   "metadata": {
    "collapsed": false
   },
   "outputs": [],
   "source": [
    "# Get company symbol from filename\n",
    "def get_cashtag(filename):\n",
    "    \n",
    "    if filename.find('_') == -1:\n",
    "        return filename[:filename.find('.')]\n",
    "    else:\n",
    "        filename = filename[:filename.find('_')]\n",
    "        return filename"
   ]
  },
  {
   "cell_type": "code",
   "execution_count": null,
   "metadata": {
    "collapsed": false
   },
   "outputs": [],
   "source": [
    "result = []\n",
    "def get_twitterdata(filename):\n",
    "    \n",
    "    html = open(directory + '/' + filename, encoding='utf8')\n",
    "    soup = BeautifulSoup(html, 'lxml')\n",
    "    \n",
    "    cashtag = get_cashtag(filename)\n",
    "    \n",
    "    content = soup.findAll('li', class_ = 'js-stream-item stream-item stream-item ')\n",
    "    \n",
    "    for tweet in content:\n",
    "        tweet_id = tweet.get('data-item-id')\n",
    "        text = tweet.find('p', class_='TweetTextSize').text\n",
    "        lang = tweet.find('p', class_='TweetTextSize').get('lang')\n",
    "        datems = tweet.find('span', class_='_timestamp').get('data-time-ms')\n",
    "        datepy = datetime.utcfromtimestamp(float(datems) / 1000.0)\n",
    "        datepy = datepy - timedelta(hours=8)\n",
    "        \n",
    "        #date_str = tweet.find('a', class_='tweet-timestamp').get('title')\n",
    "        #date = datetime.strptime(date_str,'%I:%M %p - %d %b %Y')        \n",
    "        \n",
    "        data = {}\n",
    "        \n",
    "        data['company'] = cashtag\n",
    "        data['tweet_id'] = tweet_id\n",
    "        data['text'] = str(text)\n",
    "        data['datems'] = datems\n",
    "        data['datepy'] = datepy\n",
    "        data['lang'] = lang\n",
    "        data['UID'] = str(tweet_id) + '_' + str(cashtag)\n",
    "        \n",
    "        #print(data)\n",
    "        result.append(data)\n",
    "        ProcessedTweets.insert_one(data)\n",
    "        \n",
    "    return result"
   ]
  },
  {
   "cell_type": "code",
   "execution_count": null,
   "metadata": {
    "collapsed": false,
    "scrolled": false
   },
   "outputs": [],
   "source": [
    "for file in filelist:\n",
    "    #print('Processing File ' + file)\n",
    "    get_twitterdata(file)\n",
    "    print('*** Complete ' + file + ' ***')"
   ]
  }
 ],
 "metadata": {
  "anaconda-cloud": {},
  "kernelspec": {
   "display_name": "Python 2",
   "language": "python",
   "name": "python2"
  },
  "language_info": {
   "codemirror_mode": {
    "name": "ipython",
    "version": 2
   },
   "file_extension": ".py",
   "mimetype": "text/x-python",
   "name": "python",
   "nbconvert_exporter": "python",
   "pygments_lexer": "ipython2",
   "version": "2.7.11"
  }
 },
 "nbformat": 4,
 "nbformat_minor": 0
}
