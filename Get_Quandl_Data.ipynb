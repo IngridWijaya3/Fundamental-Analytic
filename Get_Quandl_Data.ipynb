{
 "cells": [
  {
   "cell_type": "code",
   "execution_count": 25,
   "metadata": {
    "collapsed": false
   },
   "outputs": [],
   "source": [
    "import pymongo\n",
    "import quandl\n",
    "import pandas as pd\n",
    "import json\n",
    "import numpy as np\n",
    "from datetime import datetime,timedelta\n",
    "\n",
    "quandl.ApiConfig.api_key = ''"
   ]
  },
  {
   "cell_type": "code",
   "execution_count": 3,
   "metadata": {
    "collapsed": true
   },
   "outputs": [],
   "source": [
    "mongo_connect_string = 'mongodb://TwitterIPO?authSource=TwitterIPO'\n",
    "client = pymongo.MongoClient(mongo_connect_string)\n",
    "db = client.TwitterIPO\n",
    "RawTweets = db.RawTweets\n",
    "PriceData = db.PriceData\n",
    "ProcessedTweets = db.ProcessedTweets"
   ]
  },
  {
   "cell_type": "code",
   "execution_count": 6,
   "metadata": {
    "collapsed": false
   },
   "outputs": [],
   "source": [
    "ipo_list = pd.read_excel('IPO-Last100.xlsx')"
   ]
  },
  {
   "cell_type": "code",
   "execution_count": 7,
   "metadata": {
    "collapsed": false
   },
   "outputs": [],
   "source": [
    "ipo_list = ipo_list[['Symbol','Offer Date']]"
   ]
  },
  {
   "cell_type": "code",
   "execution_count": 8,
   "metadata": {
    "collapsed": false
   },
   "outputs": [],
   "source": [
    "ipo_list['End Date'] = ipo_list['Offer Date'] + timedelta(days=30)"
   ]
  },
  {
   "cell_type": "code",
   "execution_count": 9,
   "metadata": {
    "collapsed": true
   },
   "outputs": [],
   "source": [
    "ipo_list.loc[ipo_list['End Date'] > datetime(2017,3,25), 'End Date'] = datetime(2017,3,25)"
   ]
  },
  {
   "cell_type": "code",
   "execution_count": 43,
   "metadata": {
    "collapsed": false
   },
   "outputs": [
    {
     "name": "stderr",
     "output_type": "stream",
     "text": [
      "C:\\Users\\Saifi\\AppData\\Local\\Continuum\\Anaconda3\\lib\\site-packages\\pandas\\computation\\expressions.py:62: FutureWarning: using '+' to provide set union with Indexes is deprecated, use '|' or .union()\n",
      "  return op(a, b)\n"
     ]
    }
   ],
   "source": [
    "################################################################\n",
    "### For stocks in Dataframe ipo_list - Grab the data from Quandl\n",
    "### Insert into MongoDB\n",
    "###\n",
    "###\n",
    "###\n",
    "###\n",
    "###\n",
    "\n",
    "\n",
    "for index,row in ipo_list.iterrows():\n",
    "    \n",
    "    # Set Symbol, Start and End Dates\n",
    "    symbol = str(row['Symbol'])\n",
    "    start = row['Offer Date'].date()\n",
    "    end = row['End Date'].date()\n",
    "    \n",
    "    # Send Request to Quandl\n",
    "    data = quandl.get('EOD/' + symbol, start_date=start, end_date=end)\n",
    "    \n",
    "    # Optimize Quandl's output (which is a df) - Play around with Indexes etc for inserting into MongoDB\n",
    "    data['Name'] = symbol\n",
    "    \n",
    "    \n",
    "    # Generate Unique ID\n",
    "    data.reset_index(inplace=True)\n",
    "    data.index.astype('str')\n",
    "    data['UID'] = data['Name'].apply(str) + data.index.astype('str')   \n",
    "    #data = data.set_index(['UID'])\n",
    "    \n",
    "    \n",
    "    \n",
    "    # Calculate Return and assign Class\n",
    "    data.sort_values('Date')\n",
    "    data['return'] = data.Adj_Close.pct_change()\n",
    "    data['return'].fillna((data['Adj_Close'] / data['Adj_Open']) - 1,inplace=True)\n",
    "    data['direction'] = np.where(data['return'] >= 0, 'Up','Down')\n",
    "    data['class_num_label'] = data.direction.map({'Down' : 0, 'Up' : 1})\n",
    "    \n",
    "    \n",
    "    #test_result.append(data)\n",
    "    \n",
    "    # Convert to JSON for MongoDB\n",
    "    \n",
    "    records = json.loads(data.to_json(orient='index',date_format='iso')).values()\n",
    "    \n",
    "    # Insert into MongoDB\n",
    "    \n",
    "    PriceData.insert_many(records)"
   ]
  }
 ],
 "metadata": {
  "anaconda-cloud": {},
  "kernelspec": {
   "display_name": "Python 2",
   "language": "python",
   "name": "python2"
  },
  "language_info": {
   "codemirror_mode": {
    "name": "ipython",
    "version": 2
   },
   "file_extension": ".py",
   "mimetype": "text/x-python",
   "name": "python",
   "nbconvert_exporter": "python",
   "pygments_lexer": "ipython2",
   "version": "2.7.11"
  }
 },
 "nbformat": 4,
 "nbformat_minor": 0
}
